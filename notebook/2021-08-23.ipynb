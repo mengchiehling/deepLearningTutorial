{
 "cells": [
  {
   "cell_type": "code",
   "execution_count": null,
   "metadata": {},
   "outputs": [],
   "source": [
    "import os\n",
    "\n",
    "os.chdir(os.path.dirname(os.getcwd()))"
   ]
  },
  {
   "cell_type": "markdown",
   "metadata": {},
   "source": [
    "Purpose of KFold: select the best model with respect to the val data.\n",
    "\n",
    "Usually a machine learning algorithm involves multiple hyperparameters (can be a lot), here is an example from logistic regression:\n",
    "\n",
    "\n",
    "class sklearn.linear_model.LogisticRegression(penalty='l2', \\*,  dual=False, tol=0.0001, C=1.0, fit_intercept=True, intercept_scaling=1, class_weight=None, random_state=None, solver='lbfgs', max_iter=100, multi_class='auto', verbose=0, warm_start=False, n_jobs=None, l1_ratio=None)\n",
    "\n",
    "\n",
    "choosing the right combination can significantly improve the performance of your model. In order to find the optimized hyperparameters, we need to test the trained model with respect to a dataset which is unseen to avoid getting an overfitted model.\n",
    "\n",
    "In order to do so, we cross-validation which can be achived with the following ways:\n",
    "\n",
    "1. KFold: KFold divides all the samples in  groups of samples, called folds (if , this is equivalent to the Leave One Out strategy), of equal sizes (if possible). The prediction function is learned using  folds, and the fold left out is used for test.\n",
    "\n",
    "2. StratifiedKFold: StratifiedKFold is a variation of k-fold which returns stratified folds: each set contains approximately the same percentage of samples of each target class as the complete set.\n",
    "\n",
    "3. LeaveOneOut (LOO): use n -1 data for training and validation your model on one sample. Extremely expensive"
   ]
  },
  {
   "cell_type": "code",
   "execution_count": null,
   "metadata": {},
   "outputs": [],
   "source": [
    "iris.feature_names"
   ]
  },
  {
   "cell_type": "code",
   "execution_count": null,
   "metadata": {},
   "outputs": [],
   "source": [
    "# Example\n",
    "import pandas as pd\n",
    "from sklearn.model_selection import KFold, StratifiedKFold\n",
    "from sklearn import datasets\n",
    "\n",
    "iris = datasets.load_iris()\n",
    "\n",
    "# KFold\n",
    "\n",
    "X = iris.data\n",
    "y = iris.target\n",
    "\n",
    "iris_df = pd.DataFrame(data=X, columns=iris.feature_names)\n",
    "iris_df['class'] = y"
   ]
  },
  {
   "cell_type": "code",
   "execution_count": null,
   "metadata": {},
   "outputs": [],
   "source": [
    "kfold = KFold(n_splits=3, shuffle=True, random_state=0)\n",
    "\n",
    "for train_index, val_index in kfold.split(iris_df):\n",
    "    \n",
    "    iris_train = iris_df.iloc[train_index]\n",
    "    iris_test = iris_df.iloc[val_index]\n",
    "    \n",
    "    # ... #"
   ]
  },
  {
   "cell_type": "code",
   "execution_count": null,
   "metadata": {},
   "outputs": [],
   "source": [
    "skfold = StratifiedKFold(n_splits=3, shuffle=True, random_state=0)\n",
    "\n",
    "for train_index, val_index in skfold.split(iris_df, y):\n",
    "    \n",
    "    iris_train = iris_df.iloc[train_index]\n",
    "    iris_test = iris_df.iloc[val_index]\n",
    "    \n",
    "    # ... #"
   ]
  },
  {
   "cell_type": "markdown",
   "metadata": {},
   "source": [
    "## How to combine kfold into neural net?\n",
    "\n",
    "1. Let tensorflow API solve all the problems."
   ]
  },
  {
   "cell_type": "code",
   "execution_count": null,
   "metadata": {},
   "outputs": [],
   "source": [
    "# Simple way, let tensorflow \n",
    "\n",
    "tf.keras.preprocessing.image.ImageDataGenerator(\n",
    "    #....\n",
    "    validation_split=0.0, #Float. Fraction of images reserved for validation (strictly between 0 and 1).\n",
    "    #...\n",
    ")"
   ]
  },
  {
   "cell_type": "markdown",
   "metadata": {},
   "source": [
    "2. create an dataframe"
   ]
  },
  {
   "cell_type": "code",
   "execution_count": null,
   "metadata": {},
   "outputs": [],
   "source": [
    "import os\n",
    "\n",
    "from tensorflow.keras.preprocessing.image import ImageDataGenerator\n",
    "\n",
    "# load your csv or excel with pandas \n",
    "# df = pd.read_csv('filename')\n",
    "\n",
    "add_params_train = {'rotation_range': 90,\n",
    "                    'width_shift_range': 0.1,\n",
    "                    'height_shift_range': 0.1,\n",
    "                    'zoom_range': 0.1,\n",
    "                    'horizontal_flip': True,\n",
    "                    'vertical_flip': True,\n",
    "                    'preprocessing_function': preprocess_input}\n",
    "\n",
    "train_datagen = ImageDataGenerator(**add_params_train)\n",
    "val_datagen = ImageDataGenerator(preprocessing_function=preprocess_input)\n",
    "\n",
    "\n",
    "kfold = KFold(n_splits=3, shuffle=True, random_state=0)\n",
    "\n",
    "for train_index, val_index in kfold.split(df):\n",
    "    \n",
    "    train = df.iloc[train_index]\n",
    "    test = df.iloc[val_index]\n",
    "\n",
    "    train_dataset = train_datagen.flow_from_dataframe(train, # x_col = column of filename, y_col = 'column of label'\n",
    "                                                      target_size = (224, 224),\n",
    "                                                      batch_size=16,\n",
    "                                                      class_mode='categorical')\n",
    "\n",
    "\n",
    "    val_dataset = val_datagen.flow_from_dataframe(test, # x_col = column of filename, y_col = 'column of label'\n",
    "                                                  target_size = (224, 224),\n",
    "                                                  batch_size=16, class_mode='categorical',\n",
    "                                                  shuffle=False)"
   ]
  },
  {
   "cell_type": "code",
   "execution_count": null,
   "metadata": {},
   "outputs": [],
   "source": [
    "# How to do this?\n",
    "\n",
    "import os\n",
    "from shutil import copyfile\n",
    "from glob import glob\n",
    "\n",
    "import numpy\n",
    "\n",
    "\n",
    "current_dir = os.getcwd()\n",
    "\n",
    "data_folder = os.path.join(os.pardir, 'data', '<資料夾名稱>')\n",
    "\n",
    "data_train = os.path.join(os.pardir, 'data', 'train')\n",
    "data_val = os.path.join(os.pardir, 'data', 'val')\n",
    "\n",
    "if not os.path.isdir(data_train):\n",
    "    os.makedirs(data_train)\n",
    "if not os.path.isdir(data_val):\n",
    "    os.makedirs(data_val)\n",
    "    \n",
    "jpg_files = glob(os.path.join(data_folder, \"*.jpg\"))\n",
    "\n",
    "root_folder = os.path.join(os.pardir, 'data')\n",
    "\n",
    "for j in jpg_files:\n",
    "    \n",
    "    p = np.random.rand()  # some number between 0 and 1\n",
    "    \n",
    "    basename = os.path.basename(j)  # 檔案基本名稱\n",
    "    \n",
    "    # <資料夾名稱>/<class>/圖片\n",
    "    \n",
    "    _, class_, _ = f.split(\"/\")\n",
    "    \n",
    "    if p >= 0.9:\n",
    "        target_folder = os.path.join(root_folder, 'val', f'{class_}')\n",
    "    else:\n",
    "        target_folder = os.path.join(root_folder, 'train', f'{class_}')\n",
    "    \n",
    "    if not os.path.isdir(target_folder):\n",
    "        os.makedirs(target_folder)\n",
    "    \n",
    "    dst_path = os.path.join(target_folder, basename)\n",
    "    src_path = j\n",
    "    \n",
    "    copyfile(src_path, dst_path) # 移動檔案"
   ]
  },
  {
   "cell_type": "code",
   "execution_count": null,
   "metadata": {},
   "outputs": [],
   "source": [
    "## Example \n",
    "\n",
    "from tensorflow.keras.optimizers import Adam\n",
    "\n",
    "?Adam"
   ]
  },
  {
   "cell_type": "code",
   "execution_count": null,
   "metadata": {},
   "outputs": [],
   "source": [
    "import numpy as np\n",
    "from sklearn.preprocessing import LabelEncoder\n",
    "from sklearn.metrics import accuracy_score\n",
    "\n",
    "label_encoder = LabelEncoder()\n",
    "\n",
    "label_encoder.fit(df['label'])\n",
    "\n",
    "best_params = {}\n",
    "max_acc = 0\n",
    "\n",
    "\n",
    "learning_rates = np.logspace(-3, -1, 20)\n",
    "\n",
    "\n",
    "for lr in learning_rates:\n",
    "    \n",
    "    y_true = np.zeros_like(df)\n",
    "    y_pred = np.zeros_like(df)\n",
    "    \n",
    "    kfold = KFold(n_splits=3, shuffle=True, random_state=0)\n",
    "\n",
    "    for train_index, val_index in kfold.split(df):\n",
    "\n",
    "        train = df.iloc[train_index]\n",
    "        test = df.iloc[val_index]\n",
    "\n",
    "        train_dataset = train_datagen.flow_from_dataframe(train, # x_col = column of filename, y_col = 'column of label'\n",
    "                                                          target_size = (224, 224),\n",
    "                                                          batch_size=16,\n",
    "                                                          class_mode='categorical')\n",
    "\n",
    "\n",
    "        val_dataset = val_datagen.flow_from_dataframe(test, # x_col = column of filename, y_col = 'column of label'\n",
    "                                                      target_size = (224, 224),\n",
    "                                                      batch_size=16, class_mode='categorical',\n",
    "                                                      shuffle=False)\n",
    "        \n",
    "        model.fit_generator(train_dataset)\n",
    "        \n",
    "        # In the end of training\n",
    "        \n",
    "        y_pred_proba = model.predict_generator(val_dataset)\n",
    "        y_pred[val_index] = y_pred_proba.argmax(axis=1)\n",
    "        y_true[val_index] = label_encoder.transform(test['label'].values) \n",
    "    \n",
    "    acc = accuracy_score(y_true, y_pred)\n",
    "    \n",
    "    if acc > max_acc:\n",
    "        max_acc = acc\n",
    "        best_params['learning_rate'] = lr\n",
    "        best_params['accuracy'] = acc\n",
    "        "
   ]
  },
  {
   "cell_type": "code",
   "execution_count": null,
   "metadata": {},
   "outputs": [],
   "source": []
  }
 ],
 "metadata": {
  "kernelspec": {
   "display_name": "Python 3 (ipykernel)",
   "language": "python",
   "name": "python3"
  },
  "language_info": {
   "codemirror_mode": {
    "name": "ipython",
    "version": 3
   },
   "file_extension": ".py",
   "mimetype": "text/x-python",
   "name": "python",
   "nbconvert_exporter": "python",
   "pygments_lexer": "ipython3",
   "version": "3.7.10"
  }
 },
 "nbformat": 4,
 "nbformat_minor": 4
}
