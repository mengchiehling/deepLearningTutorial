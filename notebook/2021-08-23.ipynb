{
 "cells": [
  {
   "cell_type": "code",
   "execution_count": null,
   "metadata": {},
   "outputs": [],
   "source": [
    "import os\n",
    "\n",
    "os.chdir(os.path.dirname(os.getcwd()))"
   ]
  },
  {
   "cell_type": "markdown",
   "metadata": {},
   "source": [
    "Purpose of KFold: select the best model with respect to the val data.\n",
    "\n",
    "Usually a machine learning algorithm involves multiple hyperparameters (can be a lot), here is an example from logistic regression:\n",
    "\n",
    "\n",
    "class sklearn.linear_model.LogisticRegression(penalty='l2', \\*,  dual=False, tol=0.0001, C=1.0, fit_intercept=True, intercept_scaling=1, class_weight=None, random_state=None, solver='lbfgs', max_iter=100, multi_class='auto', verbose=0, warm_start=False, n_jobs=None, l1_ratio=None)\n",
    "\n",
    "\n",
    "choosing the right combination can significantly improve the performance of your model. In order to find the optimized hyperparameters, we need to test the trained model with respect to a dataset which is unseen to avoid getting an overfitted model.\n",
    "\n",
    "In order to do so, we cross-validation which can be achived with the following ways:\n",
    "\n",
    "1. KFold: KFold divides all the samples in  groups of samples, called folds (if , this is equivalent to the Leave One Out strategy), of equal sizes (if possible). The prediction function is learned using  folds, and the fold left out is used for test.\n",
    "\n",
    "2. StratifiedKFold: StratifiedKFold is a variation of k-fold which returns stratified folds: each set contains approximately the same percentage of samples of each target class as the complete set.\n",
    "\n",
    "3. LeaveOneOut (LOO): use n -1 data for training and validation your model on one sample. Extremely expensive"
   ]
  },
  {
   "cell_type": "code",
   "execution_count": 1,
   "metadata": {},
   "outputs": [],
   "source": [
    "import os"
   ]
  },
  {
   "cell_type": "code",
   "execution_count": 2,
   "metadata": {},
   "outputs": [
    {
     "data": {
      "text/plain": [
       "'/Users/mling/OutSource/deepLearningTutorial/notebook'"
      ]
     },
     "execution_count": 2,
     "metadata": {},
     "output_type": "execute_result"
    }
   ],
   "source": [
    "os.getcwd()"
   ]
  },
  {
   "cell_type": "code",
   "execution_count": 3,
   "metadata": {},
   "outputs": [
    {
     "data": {
      "text/plain": [
       "'/Users/mling/OutSource/deepLearningTutorial'"
      ]
     },
     "execution_count": 3,
     "metadata": {},
     "output_type": "execute_result"
    }
   ],
   "source": [
    "os.path.dirname(os.getcwd())"
   ]
  },
  {
   "cell_type": "markdown",
   "metadata": {},
   "source": [
    "os.chdir 更改目前作業用資料夾到指定資料夾下面"
   ]
  },
  {
   "cell_type": "code",
   "execution_count": null,
   "metadata": {},
   "outputs": [],
   "source": [
    "iris.feature_names"
   ]
  },
  {
   "cell_type": "markdown",
   "metadata": {},
   "source": [
    "[(0, 'c1'), (1, 'c2'), ..... (n-1, 'cm')]"
   ]
  },
  {
   "cell_type": "code",
   "execution_count": 4,
   "metadata": {},
   "outputs": [],
   "source": [
    "# Example\n",
    "import pandas as pd\n",
    "from sklearn.model_selection import KFold, StratifiedKFold\n",
    "from sklearn import datasets\n",
    "\n",
    "iris = datasets.load_iris()\n",
    "\n",
    "# KFold\n",
    "\n",
    "X = iris.data\n",
    "y = iris.target\n",
    "\n",
    "iris_df = pd.DataFrame(data=X, columns=iris.feature_names)\n",
    "iris_df['class'] = y"
   ]
  },
  {
   "cell_type": "code",
   "execution_count": 5,
   "metadata": {},
   "outputs": [
    {
     "data": {
      "text/html": [
       "<div>\n",
       "<style scoped>\n",
       "    .dataframe tbody tr th:only-of-type {\n",
       "        vertical-align: middle;\n",
       "    }\n",
       "\n",
       "    .dataframe tbody tr th {\n",
       "        vertical-align: top;\n",
       "    }\n",
       "\n",
       "    .dataframe thead th {\n",
       "        text-align: right;\n",
       "    }\n",
       "</style>\n",
       "<table border=\"1\" class=\"dataframe\">\n",
       "  <thead>\n",
       "    <tr style=\"text-align: right;\">\n",
       "      <th></th>\n",
       "      <th>sepal length (cm)</th>\n",
       "      <th>sepal width (cm)</th>\n",
       "      <th>petal length (cm)</th>\n",
       "      <th>petal width (cm)</th>\n",
       "      <th>class</th>\n",
       "    </tr>\n",
       "  </thead>\n",
       "  <tbody>\n",
       "    <tr>\n",
       "      <th>0</th>\n",
       "      <td>5.1</td>\n",
       "      <td>3.5</td>\n",
       "      <td>1.4</td>\n",
       "      <td>0.2</td>\n",
       "      <td>0</td>\n",
       "    </tr>\n",
       "    <tr>\n",
       "      <th>1</th>\n",
       "      <td>4.9</td>\n",
       "      <td>3.0</td>\n",
       "      <td>1.4</td>\n",
       "      <td>0.2</td>\n",
       "      <td>0</td>\n",
       "    </tr>\n",
       "    <tr>\n",
       "      <th>2</th>\n",
       "      <td>4.7</td>\n",
       "      <td>3.2</td>\n",
       "      <td>1.3</td>\n",
       "      <td>0.2</td>\n",
       "      <td>0</td>\n",
       "    </tr>\n",
       "    <tr>\n",
       "      <th>3</th>\n",
       "      <td>4.6</td>\n",
       "      <td>3.1</td>\n",
       "      <td>1.5</td>\n",
       "      <td>0.2</td>\n",
       "      <td>0</td>\n",
       "    </tr>\n",
       "    <tr>\n",
       "      <th>4</th>\n",
       "      <td>5.0</td>\n",
       "      <td>3.6</td>\n",
       "      <td>1.4</td>\n",
       "      <td>0.2</td>\n",
       "      <td>0</td>\n",
       "    </tr>\n",
       "  </tbody>\n",
       "</table>\n",
       "</div>"
      ],
      "text/plain": [
       "   sepal length (cm)  sepal width (cm)  petal length (cm)  petal width (cm)  \\\n",
       "0                5.1               3.5                1.4               0.2   \n",
       "1                4.9               3.0                1.4               0.2   \n",
       "2                4.7               3.2                1.3               0.2   \n",
       "3                4.6               3.1                1.5               0.2   \n",
       "4                5.0               3.6                1.4               0.2   \n",
       "\n",
       "   class  \n",
       "0      0  \n",
       "1      0  \n",
       "2      0  \n",
       "3      0  \n",
       "4      0  "
      ]
     },
     "execution_count": 5,
     "metadata": {},
     "output_type": "execute_result"
    }
   ],
   "source": [
    "iris_df.head(5)"
   ]
  },
  {
   "cell_type": "code",
   "execution_count": null,
   "metadata": {},
   "outputs": [],
   "source": [
    "kfold = KFold(n_splits=3, shuffle=True, random_state=0)\n",
    "\n",
    "for train_index, val_index in kfold.split(iris_df):\n",
    "    \n",
    "    iris_train = iris_df.iloc[train_index]\n",
    "    iris_test = iris_df.iloc[val_index]\n",
    "    \n",
    "    # ... #"
   ]
  },
  {
   "cell_type": "code",
   "execution_count": null,
   "metadata": {},
   "outputs": [],
   "source": [
    "skfold = StratifiedKFold(n_splits=3, shuffle=True, random_state=0)\n",
    "\n",
    "for train_index, val_index in skfold.split(iris_df, y):\n",
    "    \n",
    "    iris_train = iris_df.iloc[train_index]\n",
    "    iris_test = iris_df.iloc[val_index]\n",
    "    \n",
    "    # ... #"
   ]
  },
  {
   "cell_type": "markdown",
   "metadata": {},
   "source": [
    "## How to combine kfold into neural net?\n",
    "\n",
    "1. Let tensorflow API solve all the problems."
   ]
  },
  {
   "cell_type": "code",
   "execution_count": null,
   "metadata": {},
   "outputs": [],
   "source": [
    "# Simple way, let tensorflow \n",
    "\n",
    "tf.keras.preprocessing.image.ImageDataGenerator(\n",
    "    #....\n",
    "    validation_split=0.0, #Float. Fraction of images reserved for validation (strictly between 0 and 1).\n",
    "    #...\n",
    ")"
   ]
  },
  {
   "cell_type": "markdown",
   "metadata": {},
   "source": [
    "2. create an dataframe"
   ]
  },
  {
   "cell_type": "code",
   "execution_count": null,
   "metadata": {},
   "outputs": [],
   "source": [
    "import os\n",
    "\n",
    "from tensorflow.keras.preprocessing.image import ImageDataGenerator\n",
    "\n",
    "# load your csv or excel with pandas \n",
    "# df = pd.read_csv('filename')\n",
    "\n",
    "add_params_train = {'rotation_range': 90,\n",
    "                    'width_shift_range': 0.1,\n",
    "                    'height_shift_range': 0.1,\n",
    "                    'zoom_range': 0.1,\n",
    "                    'horizontal_flip': True,\n",
    "                    'vertical_flip': True,\n",
    "                    'preprocessing_function': preprocess_input}\n",
    "\n",
    "train_datagen = ImageDataGenerator(**add_params_train)\n",
    "val_datagen = ImageDataGenerator(preprocessing_function=preprocess_input)\n",
    "\n",
    "\n",
    "kfold = KFold(n_splits=3, shuffle=True, random_state=0)\n",
    "\n",
    "for train_index, val_index in kfold.split(df):\n",
    "    \n",
    "    train = df.iloc[train_index]\n",
    "    test = df.iloc[val_index]\n",
    "\n",
    "    train_dataset = train_datagen.flow_from_dataframe(train, # x_col = column of filename, y_col = 'column of label'\n",
    "                                                      target_size = (224, 224),\n",
    "                                                      batch_size=16,\n",
    "                                                      class_mode='categorical')\n",
    "\n",
    "\n",
    "    val_dataset = val_datagen.flow_from_dataframe(test, # x_col = column of filename, y_col = 'column of label'\n",
    "                                                  target_size = (224, 224),\n",
    "                                                  batch_size=16, class_mode='categorical',\n",
    "                                                  shuffle=False)"
   ]
  },
  {
   "cell_type": "code",
   "execution_count": null,
   "metadata": {},
   "outputs": [],
   "source": [
    "# How to do this?\n",
    "\n",
    "import os\n",
    "from shutil import copyfile\n",
    "from glob import glob\n",
    "\n",
    "import numpy\n",
    "\n",
    "\n",
    "current_dir = os.getcwd()\n",
    "\n",
    "data_folder = os.path.join(os.pardir, 'data', '<資料夾名稱>')\n",
    "\n",
    "data_train = os.path.join(os.pardir, 'data', 'train')\n",
    "data_val = os.path.join(os.pardir, 'data', 'val')\n",
    "\n",
    "if not os.path.isdir(data_train):\n",
    "    os.makedirs(data_train)\n",
    "if not os.path.isdir(data_val):\n",
    "    os.makedirs(data_val)\n",
    "    \n",
    "jpg_files = glob(os.path.join(data_folder, \"*.jpg\"))\n",
    "\n",
    "root_folder = os.path.join(os.pardir, 'data')\n",
    "\n",
    "for j in jpg_files:\n",
    "    \n",
    "    p = np.random.rand()  # some number between 0 and 1\n",
    "    \n",
    "    basename = os.path.basename(j)  # 檔案基本名稱\n",
    "    \n",
    "    # <資料夾名稱>/<class>/圖片\n",
    "    \n",
    "    _, class_, _ = f.split(\"/\")\n",
    "    \n",
    "    if p >= 0.9:\n",
    "        target_folder = os.path.join(root_folder, 'val', f'{class_}')\n",
    "    else:\n",
    "        target_folder = os.path.join(root_folder, 'train', f'{class_}')\n",
    "    \n",
    "    if not os.path.isdir(target_folder):\n",
    "        os.makedirs(target_folder)\n",
    "    \n",
    "    dst_path = os.path.join(target_folder, basename)\n",
    "    src_path = j\n",
    "    \n",
    "    copyfile(src_path, dst_path) # 移動檔案"
   ]
  },
  {
   "cell_type": "code",
   "execution_count": 6,
   "metadata": {},
   "outputs": [
    {
     "data": {
      "text/plain": [
       "\u001b[0;31mInit signature:\u001b[0m\n",
       "\u001b[0mAdam\u001b[0m\u001b[0;34m(\u001b[0m\u001b[0;34m\u001b[0m\n",
       "\u001b[0;34m\u001b[0m    \u001b[0mlearning_rate\u001b[0m\u001b[0;34m=\u001b[0m\u001b[0;36m0.001\u001b[0m\u001b[0;34m,\u001b[0m\u001b[0;34m\u001b[0m\n",
       "\u001b[0;34m\u001b[0m    \u001b[0mbeta_1\u001b[0m\u001b[0;34m=\u001b[0m\u001b[0;36m0.9\u001b[0m\u001b[0;34m,\u001b[0m\u001b[0;34m\u001b[0m\n",
       "\u001b[0;34m\u001b[0m    \u001b[0mbeta_2\u001b[0m\u001b[0;34m=\u001b[0m\u001b[0;36m0.999\u001b[0m\u001b[0;34m,\u001b[0m\u001b[0;34m\u001b[0m\n",
       "\u001b[0;34m\u001b[0m    \u001b[0mepsilon\u001b[0m\u001b[0;34m=\u001b[0m\u001b[0;36m1e-07\u001b[0m\u001b[0;34m,\u001b[0m\u001b[0;34m\u001b[0m\n",
       "\u001b[0;34m\u001b[0m    \u001b[0mamsgrad\u001b[0m\u001b[0;34m=\u001b[0m\u001b[0;32mFalse\u001b[0m\u001b[0;34m,\u001b[0m\u001b[0;34m\u001b[0m\n",
       "\u001b[0;34m\u001b[0m    \u001b[0mname\u001b[0m\u001b[0;34m=\u001b[0m\u001b[0;34m'Adam'\u001b[0m\u001b[0;34m,\u001b[0m\u001b[0;34m\u001b[0m\n",
       "\u001b[0;34m\u001b[0m    \u001b[0;34m**\u001b[0m\u001b[0mkwargs\u001b[0m\u001b[0;34m,\u001b[0m\u001b[0;34m\u001b[0m\n",
       "\u001b[0;34m\u001b[0m\u001b[0;34m)\u001b[0m\u001b[0;34m\u001b[0m\u001b[0;34m\u001b[0m\u001b[0m\n",
       "\u001b[0;31mDocstring:\u001b[0m     \n",
       "Optimizer that implements the Adam algorithm.\n",
       "\n",
       "Adam optimization is a stochastic gradient descent method that is based on\n",
       "adaptive estimation of first-order and second-order moments.\n",
       "\n",
       "According to\n",
       "[Kingma et al., 2014](http://arxiv.org/abs/1412.6980),\n",
       "the method is \"*computationally\n",
       "efficient, has little memory requirement, invariant to diagonal rescaling of\n",
       "gradients, and is well suited for problems that are large in terms of\n",
       "data/parameters*\".\n",
       "\n",
       "Args:\n",
       "  learning_rate: A `Tensor`, floating point value, or a schedule that is a\n",
       "    `tf.keras.optimizers.schedules.LearningRateSchedule`, or a callable\n",
       "    that takes no arguments and returns the actual value to use, The\n",
       "    learning rate. Defaults to 0.001.\n",
       "  beta_1: A float value or a constant float tensor, or a callable\n",
       "    that takes no arguments and returns the actual value to use. The\n",
       "    exponential decay rate for the 1st moment estimates. Defaults to 0.9.\n",
       "  beta_2: A float value or a constant float tensor, or a callable\n",
       "    that takes no arguments and returns the actual value to use, The\n",
       "    exponential decay rate for the 2nd moment estimates. Defaults to 0.999.\n",
       "  epsilon: A small constant for numerical stability. This epsilon is\n",
       "    \"epsilon hat\" in the Kingma and Ba paper (in the formula just before\n",
       "    Section 2.1), not the epsilon in Algorithm 1 of the paper. Defaults to\n",
       "    1e-7.\n",
       "  amsgrad: Boolean. Whether to apply AMSGrad variant of this algorithm from\n",
       "    the paper \"On the Convergence of Adam and beyond\". Defaults to `False`.\n",
       "  name: Optional name for the operations created when applying gradients.\n",
       "    Defaults to `\"Adam\"`.\n",
       "  **kwargs: Keyword arguments. Allowed to be one of\n",
       "    `\"clipnorm\"` or `\"clipvalue\"`.\n",
       "    `\"clipnorm\"` (float) clips gradients by norm; `\"clipvalue\"` (float) clips\n",
       "    gradients by value.\n",
       "\n",
       "Usage:\n",
       "\n",
       ">>> opt = tf.keras.optimizers.Adam(learning_rate=0.1)\n",
       ">>> var1 = tf.Variable(10.0)\n",
       ">>> loss = lambda: (var1 ** 2)/2.0       # d(loss)/d(var1) == var1\n",
       ">>> step_count = opt.minimize(loss, [var1]).numpy()\n",
       ">>> # The first step is `-learning_rate*sign(grad)`\n",
       ">>> var1.numpy()\n",
       "9.9\n",
       "\n",
       "Reference:\n",
       "  - [Kingma et al., 2014](http://arxiv.org/abs/1412.6980)\n",
       "  - [Reddi et al., 2018](\n",
       "      https://openreview.net/pdf?id=ryQu7f-RZ) for `amsgrad`.\n",
       "\n",
       "Notes:\n",
       "\n",
       "The default value of 1e-7 for epsilon might not be a good default in\n",
       "general. For example, when training an Inception network on ImageNet a\n",
       "current good choice is 1.0 or 0.1. Note that since Adam uses the\n",
       "formulation just before Section 2.1 of the Kingma and Ba paper rather than\n",
       "the formulation in Algorithm 1, the \"epsilon\" referred to here is \"epsilon\n",
       "hat\" in the paper.\n",
       "\n",
       "The sparse implementation of this algorithm (used when the gradient is an\n",
       "IndexedSlices object, typically because of `tf.gather` or an embedding\n",
       "lookup in the forward pass) does apply momentum to variable slices even if\n",
       "they were not used in the forward pass (meaning they have a gradient equal\n",
       "to zero). Momentum decay (beta1) is also applied to the entire momentum\n",
       "accumulator. This means that the sparse behavior is equivalent to the dense\n",
       "behavior (in contrast to some momentum implementations which ignore momentum\n",
       "unless a variable slice was actually used).\n",
       "\u001b[0;31mInit docstring:\u001b[0m\n",
       "Create a new Optimizer.\n",
       "\n",
       "This must be called by the constructors of subclasses.\n",
       "Note that Optimizer instances should not bind to a single graph,\n",
       "and so shouldn't keep Tensors as member variables. Generally\n",
       "you should be able to use the _set_hyper()/state.get_hyper()\n",
       "facility instead.\n",
       "\n",
       "This class is stateful and thread-compatible.\n",
       "\n",
       "Example of custom gradient transformations:\n",
       "\n",
       "```python\n",
       "def my_gradient_transformer(grads_and_vars):\n",
       "  # Simple example, double the gradients.\n",
       "  return [(2. * g, v) for g, v in grads_and_vars]\n",
       "\n",
       "optimizer = tf.keras.optimizers.SGD(\n",
       "    1e-3, gradient_transformers=[my_gradient_transformer])\n",
       "```\n",
       "\n",
       "Args:\n",
       "  name: String. The name to use for momentum accumulator weights created\n",
       "    by the optimizer.\n",
       "  gradient_aggregator: The function to use to aggregate gradients across\n",
       "    devices (when using `tf.distribute.Strategy`). If `None`, defaults to\n",
       "    summing the gradients across devices. The function should accept and\n",
       "    return a list of `(gradient, variable)` tuples.\n",
       "  gradient_transformers: Optional. List of functions to use to transform\n",
       "    gradients before applying updates to Variables. The functions are\n",
       "    applied after `gradient_aggregator`. The functions should accept and\n",
       "    return a list of `(gradient, variable)` tuples.\n",
       "  **kwargs: keyword arguments. Allowed arguments are `clipvalue`,\n",
       "    `clipnorm`, `global_clipnorm`.\n",
       "    If `clipvalue` (float) is set, the gradient of each weight\n",
       "    is clipped to be no higher than this value.\n",
       "    If `clipnorm` (float) is set, the gradient of each weight\n",
       "    is individually clipped so that its norm is no higher than this value.\n",
       "    If `global_clipnorm` (float) is set the gradient of all weights is\n",
       "    clipped so that their global norm is no higher than this value.\n",
       "\n",
       "Raises:\n",
       "  ValueError: in case of any invalid argument.\n",
       "\u001b[0;31mFile:\u001b[0m           ~/miniconda3/envs/tutorial/lib/python3.7/site-packages/tensorflow/python/keras/optimizer_v2/adam.py\n",
       "\u001b[0;31mType:\u001b[0m           ABCMeta\n",
       "\u001b[0;31mSubclasses:\u001b[0m     \n"
      ]
     },
     "metadata": {},
     "output_type": "display_data"
    }
   ],
   "source": [
    "## Example \n",
    "\n",
    "from tensorflow.keras.optimizers import Adam\n",
    "\n",
    "?Adam"
   ]
  },
  {
   "cell_type": "code",
   "execution_count": 8,
   "metadata": {},
   "outputs": [
    {
     "data": {
      "text/plain": [
       "array([0.001     , 0.00127427, 0.00162378, 0.00206914, 0.00263665,\n",
       "       0.00335982, 0.00428133, 0.00545559, 0.00695193, 0.00885867,\n",
       "       0.01128838, 0.0143845 , 0.01832981, 0.02335721, 0.02976351,\n",
       "       0.0379269 , 0.0483293 , 0.06158482, 0.078476  , 0.1       ])"
      ]
     },
     "execution_count": 8,
     "metadata": {},
     "output_type": "execute_result"
    }
   ],
   "source": [
    "import numpy as np\n",
    "\n",
    "np.logspace(-3, -1, 20)"
   ]
  },
  {
   "cell_type": "code",
   "execution_count": null,
   "metadata": {},
   "outputs": [],
   "source": [
    "import numpy as np\n",
    "from sklearn.preprocessing import LabelEncoder\n",
    "from sklearn.metrics import accuracy_score\n",
    "\n",
    "label_encoder = LabelEncoder()\n",
    "\n",
    "label_encoder.fit(df['label'])\n",
    "\n",
    "best_params = {}\n",
    "max_acc = 0   # min_mse = np.inf\n",
    "\n",
    "\n",
    "learning_rates = np.logspace(-3, -1, 20)\n",
    "\n",
    "\n",
    "for lr in learning_rates:\n",
    "    \n",
    "    y_true = np.zeros_like(df)\n",
    "    y_pred = np.zeros_like(df)\n",
    "    \n",
    "    kfold = KFold(n_splits=3, shuffle=True, random_state=0)\n",
    "\n",
    "    for train_index, val_index in kfold.split(df):\n",
    "\n",
    "        train = df.iloc[train_index]\n",
    "        test = df.iloc[val_index]\n",
    "\n",
    "        train_dataset = train_datagen.flow_from_dataframe(train, # x_col = column of filename, y_col = 'column of label'\n",
    "                                                          target_size = (224, 224),\n",
    "                                                          batch_size=16,\n",
    "                                                          class_mode='categorical')\n",
    "\n",
    "\n",
    "        val_dataset = val_datagen.flow_from_dataframe(test, # x_col = column of filename, y_col = 'column of label'\n",
    "                                                      target_size = (224, 224),\n",
    "                                                      batch_size=16, class_mode='categorical',\n",
    "                                                      shuffle=False)\n",
    "        \n",
    "        model.fit_generator(train_dataset)\n",
    "        \n",
    "        # In the end of training\n",
    "        \n",
    "        y_pred_proba = model.predict_generator(val_dataset)\n",
    "        y_pred[val_index] = y_pred_proba.argmax(axis=1)\n",
    "        y_true[val_index] = label_encoder.transform(test['label'].values) \n",
    "    \n",
    "    acc = accuracy_score(y_true, y_pred)\n",
    "    \n",
    "    if acc > max_acc:\n",
    "        max_acc = acc\n",
    "        best_params['learning_rate'] = lr\n",
    "        best_params['accuracy'] = acc\n",
    "        "
   ]
  },
  {
   "cell_type": "markdown",
   "metadata": {},
   "source": [
    "1. 現有 train, val 資料夾檔案全部合在一起\n",
    "2. dataframe: [path, class]\n"
   ]
  }
 ],
 "metadata": {
  "kernelspec": {
   "display_name": "Python 3 (ipykernel)",
   "language": "python",
   "name": "python3"
  },
  "language_info": {
   "codemirror_mode": {
    "name": "ipython",
    "version": 3
   },
   "file_extension": ".py",
   "mimetype": "text/x-python",
   "name": "python",
   "nbconvert_exporter": "python",
   "pygments_lexer": "ipython3",
   "version": "3.7.10"
  }
 },
 "nbformat": 4,
 "nbformat_minor": 4
}
