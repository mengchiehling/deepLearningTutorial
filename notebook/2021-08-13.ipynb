{
 "cells": [
  {
   "cell_type": "code",
   "execution_count": null,
   "metadata": {},
   "outputs": [],
   "source": [
    "import os\n",
    "\n",
    "os.chdir(os.path.dirname(os.getcwd()))\n",
    "\n",
    "from tutorial.utils import DataGenerator\n",
    "from tutorial.model import resnet_10"
   ]
  },
  {
   "cell_type": "markdown",
   "metadata": {},
   "source": [
    "# Class inheritance "
   ]
  },
  {
   "cell_type": "code",
   "execution_count": null,
   "metadata": {},
   "outputs": [],
   "source": [
    "class ToyParent:\n",
    "    \n",
    "    def __init__(self):\n",
    "        \n",
    "        print(\"支持國產疫苗\")\n",
    "        \n",
    "    def message(self):\n",
    "        \n",
    "        print(\"發大財\")"
   ]
  },
  {
   "cell_type": "code",
   "execution_count": null,
   "metadata": {},
   "outputs": [],
   "source": [
    "parent = ToyParent()"
   ]
  },
  {
   "cell_type": "code",
   "execution_count": null,
   "metadata": {},
   "outputs": [],
   "source": [
    "parent.message()"
   ]
  },
  {
   "cell_type": "code",
   "execution_count": null,
   "metadata": {},
   "outputs": [],
   "source": [
    "class ToyChild(ToyParent):\n",
    "    \n",
    "    # class ToyParent is inherited by ToyChild\n",
    "    \n",
    "    def __init__(self):\n",
    "        \n",
    "        super().__init__()\n",
    "        "
   ]
  },
  {
   "cell_type": "code",
   "execution_count": null,
   "metadata": {},
   "outputs": [],
   "source": [
    "child = ToyChild()"
   ]
  },
  {
   "cell_type": "code",
   "execution_count": null,
   "metadata": {},
   "outputs": [],
   "source": [
    "child.message()"
   ]
  },
  {
   "cell_type": "code",
   "execution_count": null,
   "metadata": {},
   "outputs": [],
   "source": [
    "class ToyChild(ToyParent):\n",
    "    \n",
    "    def __init__(self):\n",
    "        \n",
    "        super().__init__()\n",
    "        \n",
    "    def message(self):\n",
    "        # overwrite the message method in ToyParent\n",
    "        \n",
    "        print(\"但我打完了BNT\")"
   ]
  },
  {
   "cell_type": "code",
   "execution_count": null,
   "metadata": {},
   "outputs": [],
   "source": [
    "child = ToyChild()"
   ]
  },
  {
   "cell_type": "code",
   "execution_count": null,
   "metadata": {},
   "outputs": [],
   "source": [
    "child.message()"
   ]
  },
  {
   "cell_type": "markdown",
   "metadata": {},
   "source": [
    "# DataGenerator for classification\n",
    "\n",
    "1. categorical_crossentropy with one-hot encoding\n",
    "2. sparse_categorical_crossentropy with label encoding"
   ]
  },
  {
   "cell_type": "code",
   "execution_count": null,
   "metadata": {},
   "outputs": [],
   "source": [
    "from glob import glob\n",
    "\n",
    "from typing import Optional, List, Tuple\n",
    "from sklearn.preprocessing import OneHotEncoder\n",
    "from imgaug.augmenters import Sequential\n",
    "from tensorflow.keras.utils import Sequence\n",
    "\n",
    "\n",
    "from tutorial.io.get_path_definition import get_project_dir\n",
    "\n",
    "class DataGeneratorClassification(DataGenerator):\n",
    "    \n",
    "    # Optional[int] = Union[int, None]\n",
    "    \n",
    "    def __init__(self, dir: str, sample_size: Optional[int] = None, batch_size: int = 32, shuffle: bool = True,\n",
    "                 image_augmentation: Optional[Sequential] = None):\n",
    "\n",
    "        super().__init__(dir=dir, sample_size=sample_size, batch_size=batch_size, shuffle=shuffle,\n",
    "                         image_augmentation=image_augmentation)\n",
    "\n",
    "        self.encoder = OneHotEncoder()\n",
    "\n",
    "        self.fit_encoder()\n",
    "\n",
    "    def fit_encoder(self):\n",
    "\n",
    "        dirs = glob(f\"{get_project_dir()}/data/{self.dir}/*\")\n",
    "        labels = [int(dir.split(\"/\")[-1]) for dir in dirs]\n",
    "\n",
    "        self.encoder.fit(np.array(labels).reshape(-1, 1))\n",
    "\n",
    "    def get_data(self, batch: List) -> Tuple[np.ndarray, np.ndarray]:\n",
    "\n",
    "        # Overwrite\n",
    "\n",
    "        df_batch = self.df.loc[batch]\n",
    "\n",
    "        image_dataset = []\n",
    "        labels = []\n",
    "\n",
    "        for _, row in df_batch.iterrows():\n",
    "            f = row['filepath']\n",
    "            if not self.image_augmentation:\n",
    "                image_dataset.append(np.array(Image.open(f)) / 255.0)\n",
    "            else:\n",
    "                image_dataset.append(self.image_augmentation.augment_image(np.array(Image.open(f))) / 255.0)\n",
    "            labels.append(row['label'])\n",
    "\n",
    "        return np.array(image_dataset), self.encoder.transform(np.array(labels).reshape(-1, 1))"
   ]
  },
  {
   "cell_type": "code",
   "execution_count": null,
   "metadata": {},
   "outputs": [],
   "source": [
    "generator = DataGeneratorClassification('train')"
   ]
  },
  {
   "cell_type": "code",
   "execution_count": null,
   "metadata": {},
   "outputs": [],
   "source": [
    "images, labels = next(generator)"
   ]
  },
  {
   "cell_type": "code",
   "execution_count": null,
   "metadata": {},
   "outputs": [],
   "source": [
    "labels.toarray()"
   ]
  },
  {
   "cell_type": "markdown",
   "metadata": {},
   "source": [
    "# Plot image with matplotlib and PIL"
   ]
  },
  {
   "cell_type": "code",
   "execution_count": null,
   "metadata": {},
   "outputs": [],
   "source": [
    "!conda install -c anaconda pillow -y"
   ]
  },
  {
   "cell_type": "code",
   "execution_count": null,
   "metadata": {},
   "outputs": [],
   "source": [
    "from PIL import Image\n",
    "\n",
    "generator = DataGenerator('train')"
   ]
  },
  {
   "cell_type": "code",
   "execution_count": null,
   "metadata": {},
   "outputs": [],
   "source": [
    "pair = next(generator)  # images, labels"
   ]
  },
  {
   "cell_type": "code",
   "execution_count": null,
   "metadata": {},
   "outputs": [],
   "source": [
    "pair[0].shape"
   ]
  },
  {
   "cell_type": "code",
   "execution_count": null,
   "metadata": {},
   "outputs": [],
   "source": [
    "import numpy as np\n",
    "\n",
    "image = (pair[0][0] * 255).astype(np.uint8)"
   ]
  },
  {
   "cell_type": "code",
   "execution_count": null,
   "metadata": {},
   "outputs": [],
   "source": [
    "img = Image.fromarray(image)"
   ]
  },
  {
   "cell_type": "code",
   "execution_count": null,
   "metadata": {},
   "outputs": [],
   "source": [
    "img.show()"
   ]
  },
  {
   "cell_type": "markdown",
   "metadata": {},
   "source": [
    "# Python comprehension"
   ]
  },
  {
   "cell_type": "code",
   "execution_count": null,
   "metadata": {},
   "outputs": [],
   "source": [
    "my_list = ['a', 'b', 'c']"
   ]
  },
  {
   "cell_type": "code",
   "execution_count": null,
   "metadata": {},
   "outputs": [],
   "source": [
    "my_list_copy = []\n",
    "for element in my_list:\n",
    "    my_list_copy.append(element)"
   ]
  },
  {
   "cell_type": "code",
   "execution_count": null,
   "metadata": {},
   "outputs": [],
   "source": [
    "my_list_copy"
   ]
  },
  {
   "cell_type": "code",
   "execution_count": null,
   "metadata": {},
   "outputs": [],
   "source": [
    "my_list_copy = [element for element in my_list]"
   ]
  },
  {
   "cell_type": "code",
   "execution_count": null,
   "metadata": {},
   "outputs": [],
   "source": [
    "my_list_copy"
   ]
  },
  {
   "cell_type": "code",
   "execution_count": null,
   "metadata": {},
   "outputs": [],
   "source": [
    "[element+\"_123\" for element in my_list]"
   ]
  },
  {
   "cell_type": "code",
   "execution_count": null,
   "metadata": {},
   "outputs": [],
   "source": [
    "def print_function(input_: str):\n",
    "    \n",
    "    return input_ + \"_456\"\n",
    "\n",
    "[print_function(element) for element in my_list]"
   ]
  },
  {
   "cell_type": "markdown",
   "metadata": {},
   "source": [
    "# Basic knowledge of class object and how to use them."
   ]
  }
 ],
 "metadata": {
  "kernelspec": {
   "display_name": "Python 3 (ipykernel)",
   "language": "python",
   "name": "python3"
  },
  "language_info": {
   "codemirror_mode": {
    "name": "ipython",
    "version": 3
   },
   "file_extension": ".py",
   "mimetype": "text/x-python",
   "name": "python",
   "nbconvert_exporter": "python",
   "pygments_lexer": "ipython3",
   "version": "3.7.10"
  }
 },
 "nbformat": 4,
 "nbformat_minor": 4
}
